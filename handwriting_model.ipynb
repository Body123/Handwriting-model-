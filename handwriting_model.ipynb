{
 "cells": [
  {
   "cell_type": "code",
   "execution_count": 47,
   "metadata": {},
   "outputs": [],
   "source": [
    "import os\n",
    "import cv2\n",
    "import numpy as np \n",
    "import matplotlib.pyplot as plt\n",
    "import tensorflow as tf"
   ]
  },
  {
   "cell_type": "code",
   "execution_count": 48,
   "metadata": {},
   "outputs": [],
   "source": [
    "mnist=tf.keras.datasets.mnist"
   ]
  },
  {
   "cell_type": "code",
   "execution_count": 49,
   "metadata": {},
   "outputs": [],
   "source": [
    "(x_train,y_train),(x_test,y_test)=mnist.load_data()"
   ]
  },
  {
   "cell_type": "code",
   "execution_count": 50,
   "metadata": {},
   "outputs": [],
   "source": [
    "x_train=tf.keras.utils.normalize(x_train,axis=1)"
   ]
  },
  {
   "cell_type": "code",
   "execution_count": 51,
   "metadata": {},
   "outputs": [],
   "source": [
    "x_test=tf.keras.utils.normalize(x_test,axis=1)"
   ]
  },
  {
   "cell_type": "code",
   "execution_count": 52,
   "metadata": {},
   "outputs": [],
   "source": [
    "model=tf.keras.models.Sequential()"
   ]
  },
  {
   "cell_type": "code",
   "execution_count": 53,
   "metadata": {},
   "outputs": [],
   "source": [
    "model.add(tf.keras.layers.Flatten(input_shape=(28,28)))\n",
    "model.add(tf.keras.layers.Dense(200,activation='relu'))\n",
    "model.add(tf.keras.layers.Dense(200,activation='relu'))\n",
    "model.add(tf.keras.layers.Dense(10,activation='softmax'))"
   ]
  },
  {
   "cell_type": "code",
   "execution_count": 54,
   "metadata": {},
   "outputs": [],
   "source": [
    "model.compile(optimizer='adam',loss='sparse_categorical_crossentropy',metrics=['accuracy'])"
   ]
  },
  {
   "cell_type": "code",
   "execution_count": 55,
   "metadata": {},
   "outputs": [
    {
     "name": "stdout",
     "output_type": "stream",
     "text": [
      "Train on 60000 samples\n",
      "Epoch 1/20\n",
      "60000/60000 [==============================] - 11s 189us/sample - loss: 0.2323 - accuracy: 0.9316\n",
      "Epoch 2/20\n",
      "60000/60000 [==============================] - 9s 152us/sample - loss: 0.0931 - accuracy: 0.9711\n",
      "Epoch 3/20\n",
      "60000/60000 [==============================] - 9s 155us/sample - loss: 0.0614 - accuracy: 0.9803\n",
      "Epoch 4/20\n",
      "60000/60000 [==============================] - 9s 152us/sample - loss: 0.0452 - accuracy: 0.9851\n",
      "Epoch 5/20\n",
      "60000/60000 [==============================] - 9s 146us/sample - loss: 0.0328 - accuracy: 0.9892\n",
      "Epoch 6/20\n",
      "60000/60000 [==============================] - 8s 130us/sample - loss: 0.0265 - accuracy: 0.9908\n",
      "Epoch 7/20\n",
      "60000/60000 [==============================] - 8s 135us/sample - loss: 0.0205 - accuracy: 0.9931\n",
      "Epoch 8/20\n",
      "60000/60000 [==============================] - 8s 130us/sample - loss: 0.0187 - accuracy: 0.9936\n",
      "Epoch 9/20\n",
      "60000/60000 [==============================] - 8s 136us/sample - loss: 0.0161 - accuracy: 0.9944\n",
      "Epoch 10/20\n",
      "60000/60000 [==============================] - 8s 133us/sample - loss: 0.0139 - accuracy: 0.9952\n",
      "Epoch 11/20\n",
      "60000/60000 [==============================] - 8s 138us/sample - loss: 0.0140 - accuracy: 0.9954\n",
      "Epoch 12/20\n",
      "60000/60000 [==============================] - 8s 133us/sample - loss: 0.0115 - accuracy: 0.9961\n",
      "Epoch 13/20\n",
      "60000/60000 [==============================] - 8s 130us/sample - loss: 0.0115 - accuracy: 0.9961\n",
      "Epoch 14/20\n",
      "60000/60000 [==============================] - 7s 121us/sample - loss: 0.0091 - accuracy: 0.9971\n",
      "Epoch 15/20\n",
      "60000/60000 [==============================] - 7s 124us/sample - loss: 0.0104 - accuracy: 0.9966\n",
      "Epoch 16/20\n",
      "60000/60000 [==============================] - 7s 121us/sample - loss: 0.0079 - accuracy: 0.9973\n",
      "Epoch 17/20\n",
      "60000/60000 [==============================] - 7s 124us/sample - loss: 0.0084 - accuracy: 0.9973\n",
      "Epoch 18/20\n",
      "60000/60000 [==============================] - 7s 121us/sample - loss: 0.0088 - accuracy: 0.9971\n",
      "Epoch 19/20\n",
      "60000/60000 [==============================] - 7s 123us/sample - loss: 0.0074 - accuracy: 0.9977\n",
      "Epoch 20/20\n",
      "60000/60000 [==============================] - 6s 105us/sample - loss: 0.0077 - accuracy: 0.9972\n"
     ]
    },
    {
     "data": {
      "text/plain": [
       "<tensorflow.python.keras.callbacks.History at 0x16d3cb88>"
      ]
     },
     "execution_count": 55,
     "metadata": {},
     "output_type": "execute_result"
    }
   ],
   "source": [
    "model.fit(x_train,y_train,epochs=20)"
   ]
  },
  {
   "cell_type": "code",
   "execution_count": 56,
   "metadata": {},
   "outputs": [
    {
     "name": "stdout",
     "output_type": "stream",
     "text": [
      "INFO:tensorflow:Assets written to: D:\\sakr_ML\\handwritten.model\\assets\n"
     ]
    }
   ],
   "source": [
    "model.save(\"D:\\sakr_ML\\handwritten.model\")"
   ]
  },
  {
   "cell_type": "code",
   "execution_count": 57,
   "metadata": {},
   "outputs": [],
   "source": [
    "model2=tf.keras.models.load_model(\"D:\\sakr_ML\\handwritten.model\")"
   ]
  },
  {
   "cell_type": "code",
   "execution_count": 58,
   "metadata": {},
   "outputs": [
    {
     "name": "stdout",
     "output_type": "stream",
     "text": [
      "10000/10000 [==============================] - 2s 176us/sample - loss: 0.1387 - accuracy: 0.9779\n"
     ]
    }
   ],
   "source": [
    "loss,accuracy=model.evaluate(x_test,y_test)"
   ]
  },
  {
   "cell_type": "code",
   "execution_count": 59,
   "metadata": {},
   "outputs": [
    {
     "data": {
      "text/plain": [
       "0.1387351122028358"
      ]
     },
     "execution_count": 59,
     "metadata": {},
     "output_type": "execute_result"
    }
   ],
   "source": [
    "loss"
   ]
  },
  {
   "cell_type": "code",
   "execution_count": 60,
   "metadata": {},
   "outputs": [
    {
     "data": {
      "text/plain": [
       "0.9779"
      ]
     },
     "execution_count": 60,
     "metadata": {},
     "output_type": "execute_result"
    }
   ],
   "source": [
    "accuracy"
   ]
  },
  {
   "cell_type": "code",
   "execution_count": 91,
   "metadata": {},
   "outputs": [
    {
     "name": "stdout",
     "output_type": "stream",
     "text": [
      "(28, 28)\n",
      "(1, 28, 28)\n",
      "2\n"
     ]
    }
   ],
   "source": [
    "os.path.isfile(f\"D:/3.png\")\n",
    "img=cv2.imread(f\"D:/3.png\")[:,:,0]\n",
    "print(img.shape)\n",
    "img=(np.array([img]))\n",
    "print(img.shape)\n",
    "prediction=model2.predict(img)\n",
    "print(np.argmax(prediction))"
   ]
  },
  {
   "cell_type": "code",
   "execution_count": 88,
   "metadata": {},
   "outputs": [
    {
     "data": {
      "text/plain": [
       "(1, 28, 28)"
      ]
     },
     "execution_count": 88,
     "metadata": {},
     "output_type": "execute_result"
    }
   ],
   "source": [
    "img.shape"
   ]
  },
  {
   "cell_type": "code",
   "execution_count": null,
   "metadata": {},
   "outputs": [],
   "source": []
  }
 ],
 "metadata": {
  "kernelspec": {
   "display_name": "Python 3",
   "language": "python",
   "name": "python3"
  },
  "language_info": {
   "codemirror_mode": {
    "name": "ipython",
    "version": 3
   },
   "file_extension": ".py",
   "mimetype": "text/x-python",
   "name": "python",
   "nbconvert_exporter": "python",
   "pygments_lexer": "ipython3",
   "version": "3.7.4"
  }
 },
 "nbformat": 4,
 "nbformat_minor": 2
}
